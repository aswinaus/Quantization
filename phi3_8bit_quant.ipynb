{
  "nbformat": 4,
  "nbformat_minor": 0,
  "metadata": {
    "colab": {
      "provenance": [],
      "gpuType": "A100",
      "authorship_tag": "ABX9TyPhmuLIsUMoXQMPXe3ddksr",
      "include_colab_link": true
    },
    "kernelspec": {
      "name": "python3",
      "display_name": "Python 3"
    },
    "language_info": {
      "name": "python"
    },
    "accelerator": "GPU"
  },
  "cells": [
    {
      "cell_type": "markdown",
      "metadata": {
        "id": "view-in-github",
        "colab_type": "text"
      },
      "source": [
        "<a href=\"https://colab.research.google.com/github/aswinaus/Quantization/blob/main/phi3_8bit_quant.ipynb\" target=\"_parent\"><img src=\"https://colab.research.google.com/assets/colab-badge.svg\" alt=\"Open In Colab\"/></a>"
      ]
    },
    {
      "cell_type": "code",
      "execution_count": null,
      "metadata": {
        "id": "k_5f1zMi2fWJ"
      },
      "outputs": [],
      "source": [
        "%pip install transformers\n",
        "# Install PyTorch and Transformers\n",
        "%pip install torch\n",
        "%pip install 'accelerate>=0.26.0'\n",
        "%pip install -U bitsandbytes"
      ]
    },
    {
      "cell_type": "code",
      "source": [
        "\n",
        "from google.colab import drive\n",
        "drive.mount('/content/drive')\n",
        "data_dir = '/content/drive/MyDrive' # Input a data dir path from your mounted Google Drive\n",
        "quant_path = f\"/{data_dir}/LLMs/microsoft/Phi-3-mini-4k-instruct\""
      ],
      "metadata": {
        "id": "5u2ttxE73H_7"
      },
      "execution_count": null,
      "outputs": []
    },
    {
      "cell_type": "code",
      "source": [
        "from transformers import AutoTokenizer, AutoModel\n",
        "from transformers import BitsAndBytesConfig\n",
        "\n",
        "# Set the local DBFS path\n",
        "local_dbfs_path = quant_path\n",
        "\n",
        "# Download and save the tokenizer\n",
        "tokenizer = AutoTokenizer.from_pretrained('microsoft/Phi-3-mini-4k-instruct')\n",
        "tokenizer.save_pretrained(local_dbfs_path)\n",
        "\n",
        "# Quantize model to 8-bit and save\n",
        "bnb_config = BitsAndBytesConfig(load_in_8bit=True)\n",
        "model = AutoModel.from_pretrained(\n",
        "    'microsoft/Phi-3-mini-4k-instruct',\n",
        "    quantization_config=bnb_config\n",
        ")\n",
        "model.save_pretrained(local_dbfs_path)"
      ],
      "metadata": {
        "id": "fdPNbg3b3hcR"
      },
      "execution_count": null,
      "outputs": []
    }
  ]
}